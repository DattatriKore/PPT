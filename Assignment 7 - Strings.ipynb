{
 "cells": [
  {
   "cell_type": "code",
   "execution_count": 1,
   "id": "a48b5825",
   "metadata": {},
   "outputs": [
    {
     "name": "stdout",
     "output_type": "stream",
     "text": [
      "True\n"
     ]
    }
   ],
   "source": [
    "'''\n",
    "Question 1\n",
    "\n",
    "Given two strings s and t, determine if they are isomorphic.\n",
    "\n",
    "Two strings s and t are isomorphic if the characters in s can be replaced to get t.\n",
    "\n",
    "All occurrences of a character must be replaced with another character while preserving the order of characters.\n",
    "\n",
    "No two characters may map to the same character, but a character may map to itself.\n",
    "\n",
    "Example 1:\n",
    "\n",
    "Input: s = \"egg\", t = \"add\"\n",
    "\n",
    "Output: true\n",
    "\n",
    "'''\n",
    "\n",
    "def isomorphic_strings(s, t):\n",
    "    if len(s) != len(t):\n",
    "        return False\n",
    "    \n",
    "    s_dict = {}\n",
    "    t_dict = {}\n",
    "    \n",
    "    for i in range(len(s)):\n",
    "        if s[i] not in s_dict and t[i] not in t_dict:\n",
    "            s_dict[s[i]] = t[i]\n",
    "            t_dict[t[i]] = s[i]\n",
    "        elif s[i] in s_dict and t[i] in t_dict:\n",
    "            if s_dict[s[i]] != t[i] or t_dict[t[i]] != s[i]:\n",
    "                return False\n",
    "        else:\n",
    "            return False\n",
    "    \n",
    "    return True\n",
    "\n",
    "s = \"egg\"\n",
    "t = \"add\"\n",
    "print(isomorphic_strings(s, t)) "
   ]
  },
  {
   "cell_type": "code",
   "execution_count": 2,
   "id": "a17811ae",
   "metadata": {},
   "outputs": [
    {
     "name": "stdout",
     "output_type": "stream",
     "text": [
      "True\n"
     ]
    }
   ],
   "source": [
    "'''\n",
    "Question 2\n",
    "\n",
    "Given a string num which represents an integer, return true if num is a strobogrammatic number.\n",
    "\n",
    "A strobogrammatic number is a number that looks the same when rotated 180 degrees (looked at upside down).\n",
    "\n",
    "Example 1:\n",
    "\n",
    "Input: num = \"69\"\n",
    "\n",
    "Output:\n",
    "\n",
    "true\n",
    "\n",
    "'''\n",
    "\n",
    "def is_strobogrammatic(num):\n",
    "    left = 0\n",
    "    right = len(num) - 1\n",
    "    \n",
    "    while left <= right:\n",
    "        if num[left] == num[right]:\n",
    "            if num[left] not in ['0', '1', '8']:\n",
    "                return False\n",
    "        elif (num[left] == '6' and num[right] == '9') or (num[left] == '9' and num[right] == '6'):\n",
    "            pass\n",
    "        else:\n",
    "            return False\n",
    "        \n",
    "        left += 1\n",
    "        right -= 1\n",
    "    \n",
    "    return True\n",
    "\n",
    "num = \"69\"\n",
    "print(is_strobogrammatic(num))"
   ]
  },
  {
   "cell_type": "code",
   "execution_count": 3,
   "id": "9febc65e",
   "metadata": {},
   "outputs": [
    {
     "name": "stdout",
     "output_type": "stream",
     "text": [
      "134\n"
     ]
    }
   ],
   "source": [
    "'''\n",
    "Question 3\n",
    "\n",
    "Given two non-negative integers, num1 and num2 represented as string, return the sum of num1 and num2 as a string.\n",
    "\n",
    "You must solve the problem without using any built-in library for handling large integers (such as BigInteger).\n",
    "\n",
    "You must also not convert the inputs to integers directly.\n",
    "\n",
    "Example 1:\n",
    "\n",
    "Input: num1 = \"11\", num2 = \"123\"\n",
    "\n",
    "Output:\n",
    "\n",
    "\"134\"\n",
    "\n",
    "'''\n",
    "\n",
    "def addStrings(num1, num2):\n",
    "    result = \"\"\n",
    "    i = len(num1) - 1\n",
    "    j = len(num2) - 1\n",
    "    carry = 0\n",
    "    \n",
    "    while i >= 0 or j >= 0 or carry != 0:\n",
    "        x = int(num1[i]) if i >= 0 else 0\n",
    "        y = int(num2[j]) if j >= 0 else 0\n",
    "        s = x + y + carry\n",
    "        result = str(s % 10) + result\n",
    "        carry = s // 10\n",
    "        i -= 1\n",
    "        j -= 1\n",
    "    \n",
    "    return result\n",
    "\n",
    "num1 = \"11\"\n",
    "num2 = \"123\"\n",
    "print(addStrings(num1, num2))"
   ]
  },
  {
   "cell_type": "code",
   "execution_count": 4,
   "id": "e05ab954",
   "metadata": {},
   "outputs": [
    {
     "name": "stdout",
     "output_type": "stream",
     "text": [
      "s'teL ekat edoCteeL tsetnoc\n"
     ]
    }
   ],
   "source": [
    "'''\n",
    "Question 4\n",
    "\n",
    "Given a string s, reverse the order of characters in each word within a sentence while still preserving whitespace and\n",
    "\n",
    "initial word order.\n",
    "\n",
    "Example 1:\n",
    "\n",
    "Input: s = \"Let's take LeetCode contest\"\n",
    "\n",
    "Output: \"s'teL ekat edoCteeL tsetnoc\"\n",
    "\n",
    "'''\n",
    "\n",
    "def reverseWords(s):\n",
    "    words = s.split()\n",
    "    reversed_words = [word[::-1] for word in words]\n",
    "    reversed_sentence = \" \".join(reversed_words)\n",
    "    return reversed_sentence\n",
    "\n",
    "s = \"Let's take LeetCode contest\"\n",
    "print(reverseWords(s)) "
   ]
  },
  {
   "cell_type": "code",
   "execution_count": 5,
   "id": "e15ecf00",
   "metadata": {},
   "outputs": [
    {
     "name": "stdout",
     "output_type": "stream",
     "text": [
      "bacdfeg\n"
     ]
    }
   ],
   "source": [
    "'''\n",
    "Question 5\n",
    "\n",
    "Given a string s and an integer k, reverse the first k characters for every 2k characters counting from the start of the string.\n",
    "\n",
    "If there are fewer than k characters left, reverse all of them. If there are less than 2k but greater than or equal to k\n",
    "\n",
    "characters, then reverse the first k characters and leave the other as original.\n",
    "\n",
    "Example 1:\n",
    "\n",
    "Input: s = \"abcdefg\", k = 2\n",
    "\n",
    "Output:\n",
    "\n",
    "\"bacdfeg\"\n",
    "\n",
    "'''\n",
    "\n",
    "def reverseStr(s, k):\n",
    "    s_list = list(s)\n",
    "    i = 0\n",
    "    \n",
    "    while i < len(s_list):\n",
    "        s_list[i:i + k] = reversed(s_list[i:i + k])\n",
    "        i += 2 * k\n",
    "    \n",
    "    return ''.join(s_list)\n",
    "\n",
    "s = \"abcdefg\"\n",
    "k = 2\n",
    "print(reverseStr(s, k))"
   ]
  },
  {
   "cell_type": "code",
   "execution_count": 6,
   "id": "ecae82f5",
   "metadata": {},
   "outputs": [
    {
     "name": "stdout",
     "output_type": "stream",
     "text": [
      "True\n"
     ]
    }
   ],
   "source": [
    "'''\n",
    "Question 6\n",
    "\n",
    "Given two strings s and goal, return true if and only if s can become goal after some number of shifts on s.\n",
    "\n",
    "A shift on s consists of moving the leftmost character of s to the rightmost position.\n",
    "\n",
    "- For example, if s = \"abcde\", then it will be \"bcdea\" after one shift.\n",
    "\n",
    "Example 1:\n",
    "\n",
    "Input: s = \"abcde\", goal = \"cdeab\"\n",
    "\n",
    "Output:\n",
    "\n",
    "true\n",
    "\n",
    "'''\n",
    "\n",
    "def rotateString(s, goal):\n",
    "    if len(s) != len(goal):\n",
    "        return False\n",
    "    \n",
    "    s_concat = s + s\n",
    "    \n",
    "    if goal in s_concat:\n",
    "        return True\n",
    "    else:\n",
    "        return False\n",
    "\n",
    "s = \"abcde\"\n",
    "goal = \"cdeab\"\n",
    "print(rotateString(s, goal)) "
   ]
  },
  {
   "cell_type": "code",
   "execution_count": 7,
   "id": "7a83bf55",
   "metadata": {},
   "outputs": [
    {
     "name": "stdout",
     "output_type": "stream",
     "text": [
      "True\n"
     ]
    }
   ],
   "source": [
    "'''\n",
    "Question 7\n",
    "\n",
    "Given two strings s and t, return true if they are equal when both are typed into empty text editors. '#' means a backspace character.\n",
    "\n",
    "Note that after backspacing an empty text, the text will continue empty.\n",
    "\n",
    "Example 1:\n",
    "\n",
    "Input: s = \"ab#c\", t = \"ad#c\"\n",
    "\n",
    "Output: true\n",
    "\n",
    "Explanation:\n",
    "\n",
    "Both s and t become \"ac\".\n",
    "\n",
    "'''\n",
    "\n",
    "def backspaceCompare(s, t):\n",
    "    def processString(string):\n",
    "        stack = []\n",
    "        for ch in string:\n",
    "            if ch != '#':\n",
    "                stack.append(ch)\n",
    "            else:\n",
    "                if stack:\n",
    "                    stack.pop()\n",
    "        return ''.join(stack)\n",
    "\n",
    "    return processString(s) == processString(t)\n",
    "\n",
    "s = \"ab#c\"\n",
    "t = \"ad#c\"\n",
    "print(backspaceCompare(s, t)) "
   ]
  },
  {
   "cell_type": "code",
   "execution_count": 8,
   "id": "7e336c04",
   "metadata": {},
   "outputs": [
    {
     "name": "stdout",
     "output_type": "stream",
     "text": [
      "True\n"
     ]
    }
   ],
   "source": [
    "'''\n",
    "Question 8\n",
    "\n",
    "You are given an array coordinates, coordinates[i] = [x, y], where [x, y] represents the coordinate of a point. Check\n",
    "\n",
    "if these points make a straight line in the XY plane.\n",
    "\n",
    "Example 1:\n",
    "    \n",
    "Input: coordinates = [[1,2],[2,3],[3,4],[4,5],[5,6],[6,7]]\n",
    "\n",
    "Output: true\n",
    "\n",
    "'''\n",
    "\n",
    "def checkStraightLine(coordinates):\n",
    "    if len(coordinates) <= 2:\n",
    "        return True\n",
    "\n",
    "    x1, y1 = coordinates[0]\n",
    "    x2, y2 = coordinates[1]\n",
    "\n",
    "    for i in range(2, len(coordinates)):\n",
    "        x3, y3 = coordinates[i]\n",
    "        if (y3 - y1) * (x2 - x1) != (y2 - y1) * (x3 - x1):\n",
    "            return False\n",
    "\n",
    "    return True\n",
    "\n",
    "coordinates = [[1,2],[2,3],[3,4],[4,5],[5,6],[6,7]]\n",
    "print(checkStraightLine(coordinates))"
   ]
  },
  {
   "cell_type": "code",
   "execution_count": null,
   "id": "31d45ac9",
   "metadata": {},
   "outputs": [],
   "source": []
  }
 ],
 "metadata": {
  "kernelspec": {
   "display_name": "Python 3 (ipykernel)",
   "language": "python",
   "name": "python3"
  },
  "language_info": {
   "codemirror_mode": {
    "name": "ipython",
    "version": 3
   },
   "file_extension": ".py",
   "mimetype": "text/x-python",
   "name": "python",
   "nbconvert_exporter": "python",
   "pygments_lexer": "ipython3",
   "version": "3.9.13"
  }
 },
 "nbformat": 4,
 "nbformat_minor": 5
}
