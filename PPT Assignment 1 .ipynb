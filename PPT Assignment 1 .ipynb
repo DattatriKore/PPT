{
 "cells": [
  {
   "cell_type": "code",
   "execution_count": 1,
   "id": "7a5670d0",
   "metadata": {},
   "outputs": [
    {
     "name": "stdout",
     "output_type": "stream",
     "text": [
      "Reversed string: gnirtS esreveR sI sihT\n"
     ]
    }
   ],
   "source": [
    "# 1. Write a Python program to reverse a string without using any built-in string reversal functions.\n",
    "\n",
    "def reverse_string(string):\n",
    "    reversed_string = \"\"\n",
    "    \n",
    "    for i in range(len(string) -1,-1,-1):\n",
    "        reversed_string = reversed_string + string[i]\n",
    "    return reversed_string\n",
    "\n",
    "string = \"This Is Reverse String\"\n",
    "reversed_string = reverse_string(string)\n",
    "print(\"Reversed string:\", reversed_string)"
   ]
  },
  {
   "cell_type": "code",
   "execution_count": 2,
   "id": "e5e89e72",
   "metadata": {},
   "outputs": [
    {
     "name": "stdout",
     "output_type": "stream",
     "text": [
      "True\n"
     ]
    }
   ],
   "source": [
    "# 2. Implement a function to check if a given string is a palindrome.\n",
    "\n",
    "def is_palindrom(string):\n",
    "    reversed_string = string[::-1]\n",
    "    return string == reversed_string\n",
    "\n",
    "string = \"racecar\"\n",
    "reversed_string = is_palindrom(string)\n",
    "\n",
    "print(reversed_string)"
   ]
  },
  {
   "cell_type": "code",
   "execution_count": 3,
   "id": "b67e0420",
   "metadata": {},
   "outputs": [
    {
     "name": "stdout",
     "output_type": "stream",
     "text": [
      "The largest element in the list is: 20\n"
     ]
    }
   ],
   "source": [
    "# 3. Write a program to find the largest element in a given list.\n",
    "\n",
    "def find_largest_element(list):\n",
    "    largest_element = list[0]\n",
    "    \n",
    "    for i in list:\n",
    "        if i > largest_element:\n",
    "            largest_element = i\n",
    "    return largest_element\n",
    "\n",
    "list = [15,12,10,20,13,9]\n",
    "\n",
    "result = find_largest_element(list)\n",
    "\n",
    "print(\"The largest element in the list is:\",result)"
   ]
  },
  {
   "cell_type": "code",
   "execution_count": 10,
   "id": "d19a1f1e",
   "metadata": {},
   "outputs": [
    {
     "name": "stdout",
     "output_type": "stream",
     "text": [
      "{1: 2, 2: 2, 3: 1, 5: 1}\n"
     ]
    }
   ],
   "source": [
    "# 4. Implement a function to count the occurrence of each element in a list.\n",
    "\n",
    "def count_occurrences(list):\n",
    "    occurrences = {}\n",
    "    \n",
    "    for i in list:\n",
    "        if i in occurrences:\n",
    "            occurrences[i] += 1\n",
    "        else:\n",
    "            occurrences[i] = 1\n",
    "    return occurrences\n",
    "\n",
    "list = [1,2,3,1,2,5]\n",
    "\n",
    "occurrences = count_occurrences(list)\n",
    "print(occurrences)"
   ]
  },
  {
   "cell_type": "code",
   "execution_count": 16,
   "id": "b5a70e97",
   "metadata": {},
   "outputs": [
    {
     "name": "stdout",
     "output_type": "stream",
     "text": [
      "The second largest number in the list is: 52\n"
     ]
    }
   ],
   "source": [
    "# 5. Write a Python program to find the second largest number in a list.\n",
    "\n",
    "\n",
    "def find_second_largest_number(list): \n",
    "    largest_number = list[0]\n",
    "    second_largest_number = 0\n",
    "    \n",
    "    for number in list:\n",
    "        if number > largest_number:\n",
    "            second_largest_number = largest_number\n",
    "            largest_number = number\n",
    "        elif number > second_largest_number:\n",
    "            second_largest_number = number\n",
    "            \n",
    "    return second_largest_number\n",
    "\n",
    "list = [10,6,8,95,4,52]\n",
    "second_largest_number = find_second_largest_number(list)\n",
    "print(\"The second largest number in the list is:\",second_largest_number)"
   ]
  },
  {
   "cell_type": "code",
   "execution_count": 18,
   "id": "b42ca2f2",
   "metadata": {},
   "outputs": [
    {
     "name": "stdout",
     "output_type": "stream",
     "text": [
      "[1, 2, 3, 5]\n"
     ]
    }
   ],
   "source": [
    "# 6. Implement a function to remove duplicate elements from a list.\n",
    "\n",
    "def remove_duplicates(list):\n",
    "    \n",
    "    new_list = []\n",
    "    \n",
    "    for element in list:\n",
    "        if element not in new_list:\n",
    "            new_list.append(element)\n",
    "            \n",
    "    return new_list\n",
    "\n",
    "list = [1,2,3,1,2,5]\n",
    "\n",
    "new_list = remove_duplicates(list)\n",
    "\n",
    "print(new_list)"
   ]
  },
  {
   "cell_type": "code",
   "execution_count": 25,
   "id": "6649ea1a",
   "metadata": {},
   "outputs": [
    {
     "name": "stdout",
     "output_type": "stream",
     "text": [
      "120\n"
     ]
    }
   ],
   "source": [
    "# 7. Write a program to calculate the factorial of a given number.\n",
    "\n",
    "def factorial(n):\n",
    "    \n",
    "    if n == 0 or n == 1:\n",
    "        return 1\n",
    "    else:\n",
    "        return n * factorial(n-1)\n",
    "    \n",
    "n = 5\n",
    "\n",
    "result = factorial(n)\n",
    "\n",
    "print(result)"
   ]
  },
  {
   "cell_type": "code",
   "execution_count": 27,
   "id": "62924589",
   "metadata": {},
   "outputs": [
    {
     "name": "stdout",
     "output_type": "stream",
     "text": [
      "17 is a prime number.\n"
     ]
    }
   ],
   "source": [
    "# 8. Implement a function to check if a given number is prime.\n",
    "\n",
    "import math\n",
    "\n",
    "def is_prime(number):\n",
    "    if number < 2:\n",
    "        return False\n",
    "    \n",
    "    for divisor in range(2,int(math.sqrt(number))+1):\n",
    "        if number % divisor == 0:\n",
    "            return False\n",
    "        \n",
    "    return True\n",
    "\n",
    "number = 17\n",
    "result = is_prime(number)\n",
    "\n",
    "print(f\"{number} is a prime number.\")"
   ]
  },
  {
   "cell_type": "code",
   "execution_count": 28,
   "id": "ff350cfb",
   "metadata": {},
   "outputs": [
    {
     "name": "stdout",
     "output_type": "stream",
     "text": [
      "Sorted list in ascending order: [12, 23, 34, 45, 56, 78, 91]\n"
     ]
    }
   ],
   "source": [
    "# 9. Write a Python program to sort a list of integers in ascending order.\n",
    "\n",
    "def sort_list_ascending(list):\n",
    "    sorted_list = sorted(list)\n",
    "    \n",
    "    return sorted_list\n",
    "\n",
    "list = [34, 56, 23, 78, 91, 12, 45]\n",
    "\n",
    "sorted_list = sort_list_ascending(list)\n",
    "\n",
    "print(\"Sorted list in ascending order:\", sorted_list)"
   ]
  },
  {
   "cell_type": "code",
   "execution_count": 29,
   "id": "6f98c95c",
   "metadata": {},
   "outputs": [
    {
     "name": "stdout",
     "output_type": "stream",
     "text": [
      "The sum of the numbers in the list is: 77\n"
     ]
    }
   ],
   "source": [
    "# 10. Implement a function to find the sum of all numbers in a list.\n",
    "\n",
    "def sum_list(list):\n",
    "    sum = 0\n",
    "    \n",
    "    for i in list:\n",
    "        sum = sum + i\n",
    "    return sum\n",
    "\n",
    "list = [15,17,20,25]\n",
    "\n",
    "sum = sum_list(list)\n",
    "\n",
    "print(\"The sum of the numbers in the list is:\", sum)"
   ]
  },
  {
   "cell_type": "code",
   "execution_count": 36,
   "id": "53ec8ec4",
   "metadata": {},
   "outputs": [
    {
     "name": "stdout",
     "output_type": "stream",
     "text": [
      "Common elements between the two lists: [4, 5]\n"
     ]
    }
   ],
   "source": [
    "# 11. Write a program to find the common elements between two lists.\n",
    "\n",
    "\n",
    "def find_common_element(list1,list2):\n",
    "    common_element = []\n",
    "    \n",
    "    for element in list1:\n",
    "        if element in list2:\n",
    "            common_element.append(element)\n",
    "            \n",
    "    return common_element\n",
    "\n",
    "list1 = [1, 2, 3, 4, 5]\n",
    "list2 = [4, 5, 6, 7, 8]\n",
    "common_elements = find_common_element(list1, list2)\n",
    "print(\"Common elements between the two lists:\", common_elements)"
   ]
  },
  {
   "cell_type": "code",
   "execution_count": 40,
   "id": "0be99fea",
   "metadata": {},
   "outputs": [
    {
     "name": "stdout",
     "output_type": "stream",
     "text": [
      "he1lo and olleh are not anagrams.\n"
     ]
    }
   ],
   "source": [
    "# 12. Implement a function to check if a given string is an anagram of another string.\n",
    "\n",
    "def is_anagram(string1,string2):\n",
    "    return sorted(string1) == sorted(string2)\n",
    "\n",
    "if __name__ == \"__main__\":\n",
    "    string1 = \"he1lo\"\n",
    "    string2 = \"olleh\"\n",
    "\n",
    "    if is_anagram(string1, string2):\n",
    "        print(f\"{string1} and {string2} are anagrams.\")\n",
    "    else:\n",
    "        print(f\"{string1} and {string2} are not anagrams.\")"
   ]
  },
  {
   "cell_type": "code",
   "execution_count": 49,
   "id": "961d9421",
   "metadata": {},
   "outputs": [
    {
     "name": "stdout",
     "output_type": "stream",
     "text": [
      "All permutations of abc:\n",
      "abc\n",
      "acb\n",
      "bac\n",
      "bca\n",
      "cab\n",
      "cba\n"
     ]
    }
   ],
   "source": [
    "# 13. Write a Python program to generate all permutations of a given string.\n",
    "\n",
    "from itertools import permutations\n",
    "\n",
    "def generate_permutations(string):\n",
    "    perms = [''.join(p) for p in permutations(string)]\n",
    "    return perms\n",
    "\n",
    "if __name__ == \"__main__\":\n",
    "    input_string = \"abc\"\n",
    "    result = generate_permutations(input_string)\n",
    "    print(f\"All permutations of {input_string}:\")\n",
    "    for permutation in result:\n",
    "        print(permutation)"
   ]
  },
  {
   "cell_type": "code",
   "execution_count": 52,
   "id": "04a4278e",
   "metadata": {},
   "outputs": [
    {
     "name": "stdout",
     "output_type": "stream",
     "text": [
      "[0, 1, 1, 2, 3, 5, 8, 13, 21, 34, 55, 89, 144, 233, 377]\n"
     ]
    }
   ],
   "source": [
    "# 14. Implement a function to calculate the Fibonacci sequence up to a given number of terms.\n",
    "\n",
    "def fibonacci_sequence(num):\n",
    "    fibonacci_seq = []\n",
    "    \n",
    "    a,b = 0,1\n",
    "    \n",
    "    for _ in range(num):\n",
    "        fibonacci_seq.append(a)\n",
    "        a,b = b,a+b\n",
    "        \n",
    "    return fibonacci_seq\n",
    "\n",
    "num = 15\n",
    "\n",
    "result = fibonacci_sequence(num)\n",
    "\n",
    "print(result)"
   ]
  },
  {
   "cell_type": "code",
   "execution_count": 10,
   "id": "091a5602",
   "metadata": {},
   "outputs": [
    {
     "name": "stdout",
     "output_type": "stream",
     "text": [
      "The median of the list is: 5\n"
     ]
    }
   ],
   "source": [
    "# 15. Write a program to find the median of a list of numbers.\n",
    "\n",
    "def find_median(numbers):\n",
    "    numbers.sort()\n",
    "    length = len(numbers)\n",
    "    \n",
    "    if length % 2 == 0:\n",
    "        median = (numbers[length // 2] + numbers[length // 2 - 1])/2\n",
    "    else:\n",
    "        median = numbers[length // 2]\n",
    "        \n",
    "    return median\n",
    "\n",
    "numbers = [1,3,5,7,9]\n",
    "\n",
    "median = find_median(numbers)\n",
    "print(\"The median of the list is:\", median)"
   ]
  },
  {
   "cell_type": "code",
   "execution_count": 13,
   "id": "d54ada5a",
   "metadata": {},
   "outputs": [
    {
     "name": "stdout",
     "output_type": "stream",
     "text": [
      "Is sorted: True\n"
     ]
    }
   ],
   "source": [
    "# 16. Implement a function to check if a given list is sorted in non-decreasing order.\n",
    "\n",
    "\n",
    "def is_sorted(lst):\n",
    "    for i in range(len(lst), -1):\n",
    "        if lst[i] > lst[i + 1] :\n",
    "            return False\n",
    "    return True\n",
    "\n",
    "lst = [1,2,3,4,5,6,7,8]\n",
    "result = is_sorted(lst)\n",
    "print(\"Is sorted:\", result)"
   ]
  },
  {
   "cell_type": "code",
   "execution_count": 14,
   "id": "b3749143",
   "metadata": {},
   "outputs": [
    {
     "name": "stdout",
     "output_type": "stream",
     "text": [
      "Intersection: [4, 5]\n"
     ]
    }
   ],
   "source": [
    "# 17. Write a Python program to find the intersection of two lists.\n",
    "\n",
    "def find_intersection(list1,list2):\n",
    "    set1 = set(list1)\n",
    "    set2 = set(list2)\n",
    "    \n",
    "    intersection = set1.intersection(set2)\n",
    "    \n",
    "    intersection_list = list(intersection)\n",
    "    \n",
    "    return intersection_list\n",
    "\n",
    "list1 = [1, 2, 3, 4, 5]\n",
    "list2 = [4, 5, 6, 7, 8]\n",
    "result = find_intersection(list1, list2)\n",
    "print(\"Intersection:\", result)"
   ]
  },
  {
   "cell_type": "code",
   "execution_count": 16,
   "id": "06a46601",
   "metadata": {},
   "outputs": [
    {
     "name": "stdout",
     "output_type": "stream",
     "text": [
      "Maximum subarray sum: 6\n"
     ]
    }
   ],
   "source": [
    "# 18. Implement a function to find the maximum subarray sum in a given list.\n",
    "\n",
    "def find_maximum_subarray_sum(lst):\n",
    "    current_sum = lst[0]\n",
    "    max_sum = lst[0]\n",
    "    \n",
    "    for num in lst[1:] :\n",
    "        current_sum = max(num,current_sum+num)\n",
    "        max_sum = max(max_sum,current_sum)\n",
    "        \n",
    "    return max_sum\n",
    "\n",
    "numbers = [-2, 1, -3, 4, -1, 2, 1, -5, 4]\n",
    "result = find_maximum_subarray_sum(numbers)\n",
    "print(\"Maximum subarray sum:\", result)"
   ]
  },
  {
   "cell_type": "code",
   "execution_count": 18,
   "id": "67dd7ee9",
   "metadata": {},
   "outputs": [
    {
     "name": "stdout",
     "output_type": "stream",
     "text": [
      "Result: Dtttr mknt Kr.\n"
     ]
    }
   ],
   "source": [
    "# 19. Write a program to remove all vowels from a given string.\n",
    "\n",
    "def remove_vowels(string):\n",
    "    vowels = \"aeiouAEIOU\"\n",
    "    result = \"\"\n",
    "    \n",
    "    for char in string:\n",
    "        if char not in vowels :\n",
    "            result = result + char\n",
    "    return result\n",
    "\n",
    "text = \"Dattatri Umakant Kore.\"\n",
    "result = remove_vowels(text)\n",
    "print(\"Result:\", result)"
   ]
  },
  {
   "cell_type": "code",
   "execution_count": 21,
   "id": "1d23b37a",
   "metadata": {},
   "outputs": [
    {
     "name": "stdout",
     "output_type": "stream",
     "text": [
      "Reversed sentence: you? are how Hello,\n"
     ]
    }
   ],
   "source": [
    "# 20. Implement a function to reverse the order of words in a given sentence.\n",
    "\n",
    "def reverse_sentance(sentance):\n",
    "    words = sentance.split()\n",
    "    \n",
    "    reversed_words = words[::-1]\n",
    "    \n",
    "    reverse_sentance = \" \".join(reversed_words)\n",
    "    \n",
    "    return reverse_sentance\n",
    "\n",
    "sentence = \"Hello, how are you?\"\n",
    "reversed_words = reverse_sentance(sentence)\n",
    "print(\"Reversed sentence:\", reversed_words)"
   ]
  },
  {
   "cell_type": "code",
   "execution_count": 2,
   "id": "04829fc9",
   "metadata": {},
   "outputs": [
    {
     "name": "stdout",
     "output_type": "stream",
     "text": [
      "The strings are anagrams.\n"
     ]
    }
   ],
   "source": [
    "# 21. Write a Python program to check if two strings are anagrams of each other.\n",
    "\n",
    "def is_anagram(str1, str2):\n",
    "\n",
    "  if len(str1) != len(str2):\n",
    "    return False\n",
    "\n",
    "  char_counts = {}\n",
    "  for char in str1:\n",
    "    if char in char_counts:\n",
    "      char_counts[char] += 1\n",
    "    else:\n",
    "      char_counts[char] = 1\n",
    "\n",
    "  for char in str2:\n",
    "    if char not in char_counts:\n",
    "      return False\n",
    "    else:\n",
    "      char_counts[char] -= 1\n",
    "\n",
    "  for count in char_counts.values():\n",
    "    if count != 0:\n",
    "      return False\n",
    "\n",
    "  return True\n",
    "\n",
    "\n",
    "def main():\n",
    "  str1 = \"mary\"\n",
    "  str2 = \"army\"\n",
    "\n",
    "  if is_anagram(str1, str2):\n",
    "    print(\"The strings are anagrams.\")\n",
    "  else:\n",
    "    print(\"The strings are not anagrams.\")\n",
    "\n",
    "\n",
    "if __name__ == \"__main__\":\n",
    "  main()"
   ]
  },
  {
   "cell_type": "code",
   "execution_count": 1,
   "id": "175eb25b",
   "metadata": {},
   "outputs": [
    {
     "name": "stdout",
     "output_type": "stream",
     "text": [
      "The first non-repeating character is: h\n"
     ]
    }
   ],
   "source": [
    "# 22. Implement a function to find the first non-repeating character in a string.\n",
    "\n",
    "def find_first_non_repeating_character(string):\n",
    "  char_counts = {}\n",
    "  for char in string:\n",
    "    if char in char_counts:\n",
    "      char_counts[char] += 1\n",
    "    else:\n",
    "      char_counts[char] = 1\n",
    "\n",
    "  for char in string:\n",
    "    if char_counts[char] == 1:\n",
    "      return char\n",
    "\n",
    "  return None\n",
    "\n",
    "\n",
    "def main():\n",
    "  string = \"helloworld\"\n",
    "  result = find_first_non_repeating_character(string)\n",
    "\n",
    "  if result:\n",
    "    print(\"The first non-repeating character is:\", result)\n",
    "  else:\n",
    "    print(\"There are no non-repeating characters in the string.\")\n",
    "\n",
    "\n",
    "if __name__ == \"__main__\":\n",
    "  main()"
   ]
  },
  {
   "cell_type": "code",
   "execution_count": 2,
   "id": "d9f9c67a",
   "metadata": {},
   "outputs": [
    {
     "name": "stdout",
     "output_type": "stream",
     "text": [
      "The prime factors of 12 are [2, 2, 3]\n"
     ]
    }
   ],
   "source": [
    "# 23. Write a program to find the prime factors of a given number.\n",
    "\n",
    "def find_prime_factors(number):\n",
    "  factors = []\n",
    "  for i in range(2, int(number**0.5) + 1):\n",
    "    while number % i == 0:\n",
    "      factors.append(i)\n",
    "      number //= i\n",
    "\n",
    "  if number > 1:\n",
    "    factors.append(number)\n",
    "\n",
    "  return factors\n",
    "\n",
    "\n",
    "def main():\n",
    "  number = 12\n",
    "  factors = find_prime_factors(number)\n",
    "\n",
    "  print(\"The prime factors of {} are {}\".format(number, factors))\n",
    "\n",
    "\n",
    "if __name__ == \"__main__\":\n",
    "  main()"
   ]
  },
  {
   "cell_type": "code",
   "execution_count": 3,
   "id": "e2043da0",
   "metadata": {},
   "outputs": [
    {
     "name": "stdout",
     "output_type": "stream",
     "text": [
      "The number 16 is a power of two: True\n"
     ]
    }
   ],
   "source": [
    "# 24. Implement a function to check if a given number is a power of two.\n",
    "\n",
    "def is_power_of_two(number):\n",
    "  if number <= 0:\n",
    "    return False\n",
    "\n",
    "  while number % 2 == 0:\n",
    "    number //= 2\n",
    "\n",
    "  return number == 1\n",
    "\n",
    "\n",
    "def main():\n",
    "  number = 16\n",
    "  result = is_power_of_two(number)\n",
    "\n",
    "  print(\"The number {} is a power of two: {}\".format(number, result))\n",
    "\n",
    "\n",
    "if __name__ == \"__main__\":\n",
    "  main()"
   ]
  },
  {
   "cell_type": "code",
   "execution_count": 4,
   "id": "5f8fd634",
   "metadata": {},
   "outputs": [
    {
     "name": "stdout",
     "output_type": "stream",
     "text": [
      "Merged List: [1, 2, 3, 4, 5, 6, 7, 8, 9]\n"
     ]
    }
   ],
   "source": [
    "# 25. Write a Python program to merge two sorted lists into a single sorted list.\n",
    "\n",
    "def merge_sorted_lists(list1, list2):\n",
    "    merged_list = []\n",
    "    i = 0  \n",
    "    j = 0 \n",
    "\n",
    "    while i < len(list1) and j < len(list2):\n",
    "        if list1[i] < list2[j]:\n",
    "            merged_list.append(list1[i])\n",
    "            i += 1\n",
    "        else:\n",
    "            merged_list.append(list2[j])\n",
    "            j += 1\n",
    "\n",
    "    while i < len(list1):\n",
    "        merged_list.append(list1[i])\n",
    "        i += 1\n",
    "\n",
    "    while j < len(list2):\n",
    "        merged_list.append(list2[j])\n",
    "        j += 1\n",
    "\n",
    "    return merged_list\n",
    "\n",
    "list1 = [1, 3, 5, 7]\n",
    "list2 = [2, 4, 6, 8, 9]\n",
    "\n",
    "merged = merge_sorted_lists(list1, list2)\n",
    "print(\"Merged List:\", merged)"
   ]
  },
  {
   "cell_type": "code",
   "execution_count": 5,
   "id": "3fda3857",
   "metadata": {},
   "outputs": [
    {
     "name": "stdout",
     "output_type": "stream",
     "text": [
      "Mode(s): [2]\n"
     ]
    }
   ],
   "source": [
    "# 26. Implement a function to find the mode of a list of numbers.\n",
    "\n",
    "from collections import Counter\n",
    "\n",
    "def find_mode(numbers):\n",
    "    counter = Counter(numbers)\n",
    "\n",
    "    max_freq = max(counter.values())\n",
    "\n",
    "    mode = [num for num, freq in counter.items() if freq == max_freq]\n",
    "\n",
    "    return mode\n",
    "\n",
    "numbers = [1, 2, 3, 2, 4, 1, 5, 2, 2]\n",
    "\n",
    "modes = find_mode(numbers)\n",
    "print(\"Mode(s):\", modes)"
   ]
  },
  {
   "cell_type": "code",
   "execution_count": 1,
   "id": "b578503b",
   "metadata": {},
   "outputs": [
    {
     "name": "stdout",
     "output_type": "stream",
     "text": [
      "The greatest common divisor of 12 and 18 is 6\n"
     ]
    }
   ],
   "source": [
    "# 27. Write a program to find the greatest common divisor (GCD) of two numbers.\n",
    "\n",
    "def gcd(x, y):\n",
    "  while y != 0:\n",
    "    x, y = y, x % y\n",
    "\n",
    "  return x\n",
    "\n",
    "def main():\n",
    "  x = 12\n",
    "  y = 18\n",
    "\n",
    "  gcd_value = gcd(x, y)\n",
    "\n",
    "  print(\"The greatest common divisor of {} and {} is {}\".format(x, y, gcd_value))\n",
    "\n",
    "if __name__ == \"__main__\":\n",
    "  main()"
   ]
  },
  {
   "cell_type": "code",
   "execution_count": 2,
   "id": "b2239054",
   "metadata": {},
   "outputs": [
    {
     "name": "stdout",
     "output_type": "stream",
     "text": [
      "The square root of 16 is 4\n"
     ]
    }
   ],
   "source": [
    "# 28. Implement a function to calculate the square root of a given number.\n",
    "\n",
    "import math\n",
    "\n",
    "def square_root(number):\n",
    "  if number < 0:\n",
    "    raise ValueError(\"The number cannot be negative.\")\n",
    "\n",
    "  low = 0\n",
    "  high = number\n",
    "  mid = (low + high) // 2\n",
    "\n",
    "  while low <= high:\n",
    "    if mid * mid == number:\n",
    "      return mid\n",
    "    elif mid * mid < number:\n",
    "      low = mid + 1\n",
    "    else:\n",
    "      high = mid - 1\n",
    "    mid = (low + high) // 2\n",
    "\n",
    "  return mid\n",
    "\n",
    "\n",
    "def main():\n",
    "  number = 16\n",
    "  square_root_value = square_root(number)\n",
    "\n",
    "  print(\"The square root of {} is {}\".format(number, square_root_value))\n",
    "\n",
    "\n",
    "if __name__ == \"__main__\":\n",
    "  main()"
   ]
  },
  {
   "cell_type": "code",
   "execution_count": 4,
   "id": "4b4ee8b9",
   "metadata": {},
   "outputs": [
    {
     "name": "stdout",
     "output_type": "stream",
     "text": [
      "The string Madam is a palindrome: False\n"
     ]
    }
   ],
   "source": [
    "# 29. Write a Python program to check if a given string is a valid palindrome ignoring non-alphanumeric characters.\n",
    "\n",
    "import re\n",
    "\n",
    "def is_palindrome(string):\n",
    "  string = re.sub(r\"\\W\", \"\", string)\n",
    "\n",
    "  reversed_string = string[::-1]\n",
    "\n",
    "  return string == reversed_string\n",
    "\n",
    "def main():\n",
    "  string = \"Madam\"\n",
    "\n",
    "  result = is_palindrome(string)\n",
    "\n",
    "  print(\"The string {} is a palindrome: {}\".format(string, result))\n",
    "\n",
    "if __name__ == \"__main__\":\n",
    "  main()"
   ]
  },
  {
   "cell_type": "code",
   "execution_count": 5,
   "id": "be7d8dfe",
   "metadata": {},
   "outputs": [
    {
     "name": "stdout",
     "output_type": "stream",
     "text": [
      "Minimum element: 0\n"
     ]
    }
   ],
   "source": [
    "# 30. Implement a function to find the minimum element in a rotated sorted list.\n",
    "\n",
    "def find_minimum_element(nums):\n",
    "    left = 0\n",
    "    right = len(nums) - 1\n",
    "\n",
    "    if nums[left] <= nums[right]:\n",
    "        return nums[left]\n",
    "\n",
    "    while left <= right:\n",
    "        mid = (left + right) // 2\n",
    "\n",
    "        if nums[mid] > nums[mid + 1]:\n",
    "            return nums[mid + 1]\n",
    "\n",
    "        if nums[mid - 1] > nums[mid]:\n",
    "            return nums[mid]\n",
    "\n",
    "        if nums[mid] > nums[left]:\n",
    "            left = mid + 1\n",
    "        else:\n",
    "            right = mid - 1\n",
    "\n",
    "    return -1 \n",
    "\n",
    "nums = [4, 5, 6, 7, 0, 1, 2]\n",
    "\n",
    "minimum = find_minimum_element(nums)\n",
    "print(\"Minimum element:\", minimum)"
   ]
  },
  {
   "cell_type": "code",
   "execution_count": 6,
   "id": "ebba1e95",
   "metadata": {},
   "outputs": [
    {
     "name": "stdout",
     "output_type": "stream",
     "text": [
      "Sum of even numbers: 30\n"
     ]
    }
   ],
   "source": [
    "# 31. Write a program to find the sum of all even numbers in a list.\n",
    "\n",
    "def sum_even_numbers(numbers):\n",
    "    sum_even = 0\n",
    "\n",
    "    for num in numbers:\n",
    "        if num % 2 == 0:\n",
    "            sum_even += num\n",
    "\n",
    "    return sum_even\n",
    "\n",
    "numbers = [1, 2, 3, 4, 5, 6, 7, 8, 9, 10]\n",
    "\n",
    "sum_even = sum_even_numbers(numbers)\n",
    "print(\"Sum of even numbers:\", sum_even)"
   ]
  },
  {
   "cell_type": "code",
   "execution_count": 7,
   "id": "f752d05d",
   "metadata": {},
   "outputs": [
    {
     "name": "stdout",
     "output_type": "stream",
     "text": [
      "The power of 2 to the power of 3 is 8\n"
     ]
    }
   ],
   "source": [
    "# 32. Implement a function to calculate the power of a number using recursion.\n",
    "\n",
    "def power(number, exponent):\n",
    "  if exponent == 0:\n",
    "    return 1\n",
    "  elif exponent == 1:\n",
    "    return number\n",
    "  else:\n",
    "    return number * power(number, exponent - 1)\n",
    "\n",
    "def main():\n",
    "  number = 2\n",
    "  exponent = 3\n",
    "\n",
    "  power_of_number = power(number, exponent)\n",
    "\n",
    "  print(\"The power of {} to the power of {} is {}\".format(number, exponent, power_of_number))\n",
    "\n",
    "if __name__ == \"__main__\":\n",
    "  main()"
   ]
  },
  {
   "cell_type": "code",
   "execution_count": 8,
   "id": "4e19950e",
   "metadata": {},
   "outputs": [
    {
     "name": "stdout",
     "output_type": "stream",
     "text": [
      "List after removing duplicates: [3, 2, 1, 5, 4, 6]\n"
     ]
    }
   ],
   "source": [
    "# 33. Write a Python program to remove duplicates from a list while preserving the order.\n",
    "\n",
    "def remove_duplicates(lst):\n",
    "    seen = set()\n",
    "    result = []\n",
    "\n",
    "    for item in lst:\n",
    "        if item not in seen:\n",
    "            seen.add(item)\n",
    "            result.append(item)\n",
    "\n",
    "    return result\n",
    "\n",
    "lst = [3, 2, 2, 1, 5, 3, 5, 4, 2, 4, 6]\n",
    "\n",
    "result = remove_duplicates(lst)\n",
    "print(\"List after removing duplicates:\", result)"
   ]
  },
  {
   "cell_type": "code",
   "execution_count": 9,
   "id": "7c84bb7e",
   "metadata": {},
   "outputs": [
    {
     "name": "stdout",
     "output_type": "stream",
     "text": [
      "Longest common prefix: fl\n"
     ]
    }
   ],
   "source": [
    "# 34. Implement a function to find the longest common prefix among a list of strings.\n",
    "\n",
    "def longest_common_prefix(strings):\n",
    "    if not strings:\n",
    "        return \"\"\n",
    "\n",
    "    prefix = strings[0]\n",
    "\n",
    "    for string in strings[1:]:\n",
    "        while not string.startswith(prefix):\n",
    "            prefix = prefix[:-1]\n",
    "\n",
    "            if not prefix:\n",
    "                return \"\"\n",
    "\n",
    "    return prefix\n",
    "\n",
    "strings = [\"flower\", \"flow\", \"flight\"]\n",
    "\n",
    "common_prefix = longest_common_prefix(strings)\n",
    "print(\"Longest common prefix:\", common_prefix)"
   ]
  },
  {
   "cell_type": "code",
   "execution_count": 10,
   "id": "cdf043e9",
   "metadata": {},
   "outputs": [
    {
     "name": "stdout",
     "output_type": "stream",
     "text": [
      "The number 16 is a perfect square: True\n"
     ]
    }
   ],
   "source": [
    "# 35. Write a program to check if a given number is a perfect square.\n",
    "\n",
    "import math\n",
    "\n",
    "def is_perfect_square(number):\n",
    "  if number < 0:\n",
    "    return False\n",
    "\n",
    "  root = math.sqrt(number)\n",
    "\n",
    "  if root == int(root):\n",
    "    return True\n",
    "  else:\n",
    "    return False\n",
    "\n",
    "def main():\n",
    "  number = 16\n",
    "\n",
    "  is_perfect_square_value = is_perfect_square(number)\n",
    "\n",
    "  print(\"The number {} is a perfect square: {}\".format(number, is_perfect_square_value))\n",
    "\n",
    "if __name__ == \"__main__\":\n",
    "  main()"
   ]
  },
  {
   "cell_type": "code",
   "execution_count": 11,
   "id": "50efc2a7",
   "metadata": {},
   "outputs": [
    {
     "name": "stdout",
     "output_type": "stream",
     "text": [
      "Product of the numbers: 120\n"
     ]
    }
   ],
   "source": [
    "# 36. Implement a function to calculate the product of all elements in a list.\n",
    "\n",
    "def calculate_product(numbers):\n",
    "    product = 1\n",
    "\n",
    "    for num in numbers:\n",
    "        product *= num\n",
    "\n",
    "    return product\n",
    "\n",
    "numbers = [1, 2, 3, 4, 5]\n",
    "\n",
    "result = calculate_product(numbers)\n",
    "print(\"Product of the numbers:\", result)"
   ]
  },
  {
   "cell_type": "code",
   "execution_count": 12,
   "id": "903c4861",
   "metadata": {},
   "outputs": [
    {
     "name": "stdout",
     "output_type": "stream",
     "text": [
      "The reversed sentence is: sentence. a is This\n"
     ]
    }
   ],
   "source": [
    "# 37. Write a Python program to reverse the order of words in a sentence while preserving the word order.\n",
    "\n",
    "def reverse_words(sentence):\n",
    "  words = sentence.split(\" \")\n",
    "  reversed_words = []\n",
    "\n",
    "  for word in words:\n",
    "    reversed_words.insert(0, word)\n",
    "\n",
    "  reversed_sentence = \" \".join(reversed_words)\n",
    "\n",
    "  return reversed_sentence\n",
    "\n",
    "def main():\n",
    "  sentence = \"This is a sentence.\"\n",
    "\n",
    "  reversed_sentence = reverse_words(sentence)\n",
    "\n",
    "  print(\"The reversed sentence is: {}\".format(reversed_sentence))\n",
    "\n",
    "if __name__ == \"__main__\":\n",
    "  main()"
   ]
  },
  {
   "cell_type": "code",
   "execution_count": 13,
   "id": "f919c099",
   "metadata": {},
   "outputs": [
    {
     "name": "stdout",
     "output_type": "stream",
     "text": [
      "Missing number: 3\n"
     ]
    }
   ],
   "source": [
    "# 38. Implement a function to find the missing number in a given list of consecutive numbers.\n",
    "\n",
    "def find_missing_number(numbers):\n",
    "    n = len(numbers) + 1\n",
    "    expected_sum = (n * (n + 1)) // 2\n",
    "    actual_sum = sum(numbers)\n",
    "    missing_number = expected_sum - actual_sum\n",
    "    return missing_number\n",
    "\n",
    "numbers = [1, 2, 4, 5, 6]\n",
    "\n",
    "missing_number = find_missing_number(numbers)\n",
    "print(\"Missing number:\", missing_number)"
   ]
  },
  {
   "cell_type": "code",
   "execution_count": 14,
   "id": "ec5993c0",
   "metadata": {},
   "outputs": [
    {
     "name": "stdout",
     "output_type": "stream",
     "text": [
      "The sum of the digits of 1234 is 10\n"
     ]
    }
   ],
   "source": [
    "# 39. Write a program to find the sum of digits of a given number.\n",
    "\n",
    "def sum_of_digits(number):\n",
    "  sum_of_digits = 0\n",
    "\n",
    "  while number > 0:\n",
    "    digit = number % 10\n",
    "    sum_of_digits += digit\n",
    "    number //= 10\n",
    "\n",
    "  return sum_of_digits\n",
    "\n",
    "def main():\n",
    "  number = 1234\n",
    "\n",
    "  sum_of_digits_value = sum_of_digits(number)\n",
    "\n",
    "  print(\"The sum of the digits of {} is {}\".format(number, sum_of_digits_value))\n",
    "\n",
    "if __name__ == \"__main__\":\n",
    "  main()"
   ]
  },
  {
   "cell_type": "code",
   "execution_count": 15,
   "id": "fc782b0b",
   "metadata": {},
   "outputs": [
    {
     "name": "stdout",
     "output_type": "stream",
     "text": [
      "The string madam is a palindrome: True\n"
     ]
    }
   ],
   "source": [
    "# 40. Implement a function to check if a given string is a valid palindrome considering case sensitivity.\n",
    "\n",
    "def is_palindrome(string):\n",
    "  reversed_string = \"\"\n",
    "\n",
    "  for character in string:\n",
    "    reversed_string += character.lower()\n",
    "\n",
    "  return string == reversed_string\n",
    "\n",
    "def main():\n",
    "  string = \"madam\"\n",
    "\n",
    "  is_palindrome_value = is_palindrome(string)\n",
    "\n",
    "  print(\"The string {} is a palindrome: {}\".format(string, is_palindrome_value))\n",
    "\n",
    "if __name__ == \"__main__\":\n",
    "  main()"
   ]
  },
  {
   "cell_type": "code",
   "execution_count": 16,
   "id": "476390f0",
   "metadata": {},
   "outputs": [
    {
     "name": "stdout",
     "output_type": "stream",
     "text": [
      "Smallest missing positive integer: 2\n"
     ]
    }
   ],
   "source": [
    "# 41. Write a Python program to find the smallest missing positive integer in a list.\n",
    "\n",
    "def find_smallest_missing_positive(nums):\n",
    "    n = len(nums)\n",
    "\n",
    "    for i in range(n):\n",
    "        while 1 <= nums[i] <= n and nums[nums[i] - 1] != nums[i]:\n",
    "            nums[nums[i] - 1], nums[i] = nums[i], nums[nums[i] - 1]\n",
    "\n",
    "    for i in range(n):\n",
    "        if nums[i] != i + 1:\n",
    "            return i + 1\n",
    "\n",
    "    return n + 1\n",
    "\n",
    "nums = [3, 4, -1, 1]\n",
    "\n",
    "smallest_missing = find_smallest_missing_positive(nums)\n",
    "print(\"Smallest missing positive integer:\", smallest_missing)"
   ]
  },
  {
   "cell_type": "code",
   "execution_count": 17,
   "id": "660c0d13",
   "metadata": {},
   "outputs": [
    {
     "name": "stdout",
     "output_type": "stream",
     "text": [
      "The longest palindrome substring in the string madam is ada\n"
     ]
    }
   ],
   "source": [
    "# 42. Implement a function to find the longest palindrome substring in a given string.\n",
    "\n",
    "def longest_palindrome_substring(string):\n",
    "  longest_palindrome_substring = \"\"\n",
    "  current_palindrome_substring = \"\"\n",
    "\n",
    "  for i in range(len(string)):\n",
    "    for j in range(i, len(string)):\n",
    "      if string[i:j + 1] == string[j:i - 1:-1]:\n",
    "        if len(string[i:j + 1]) > len(longest_palindrome_substring):\n",
    "          longest_palindrome_substring = string[i:j + 1]\n",
    "\n",
    "  return longest_palindrome_substring\n",
    "\n",
    "def main():\n",
    "  string = \"madam\"\n",
    "\n",
    "  longest_palindrome_substring_value = longest_palindrome_substring(string)\n",
    "\n",
    "  print(\"The longest palindrome substring in the string {} is {}\".format(string, longest_palindrome_substring_value))\n",
    "\n",
    "if __name__ == \"__main__\":\n",
    "  main()"
   ]
  },
  {
   "cell_type": "code",
   "execution_count": 20,
   "id": "d27f3ee4",
   "metadata": {},
   "outputs": [
    {
     "name": "stdout",
     "output_type": "stream",
     "text": [
      "Number of occurrences of 2 : 3\n"
     ]
    }
   ],
   "source": [
    "# 43. Write a program to find the number of occurrences of a given element in a list.\n",
    "\n",
    "def count_occurrences(numbers, element):\n",
    "    count = 0\n",
    "\n",
    "    for num in numbers:\n",
    "        if num == element:\n",
    "            count += 1\n",
    "\n",
    "    return count\n",
    "\n",
    "numbers = [1, 2, 3, 2, 4, 2, 5]\n",
    "element = 2\n",
    "\n",
    "occurrences = count_occurrences(numbers, element)\n",
    "print(\"Number of occurrences of\", element, \":\", occurrences)"
   ]
  },
  {
   "cell_type": "code",
   "execution_count": 21,
   "id": "9f278183",
   "metadata": {},
   "outputs": [
    {
     "name": "stdout",
     "output_type": "stream",
     "text": [
      "The number 6 is a perfect number: False\n"
     ]
    }
   ],
   "source": [
    "# 44. Implement a function to check if a given number is a perfect number.\n",
    "\n",
    "def is_perfect_number(number):\n",
    "  sum_of_factors = 1\n",
    "\n",
    "  for factor in range(2, int(number ** 0.5) + 1):\n",
    "    if number % factor == 0:\n",
    "      sum_of_factors += factor\n",
    "      if factor * factor == number:\n",
    "        break\n",
    "\n",
    "  return number == sum_of_factors\n",
    "\n",
    "def main():\n",
    "  number = 6\n",
    "\n",
    "  is_perfect_number_value = is_perfect_number(number)\n",
    "\n",
    "  print(\"The number {} is a perfect number: {}\".format(number, is_perfect_number_value))\n",
    "\n",
    "if __name__ == \"__main__\":\n",
    "  main()"
   ]
  },
  {
   "cell_type": "code",
   "execution_count": 22,
   "id": "26aa64d5",
   "metadata": {},
   "outputs": [
    {
     "name": "stdout",
     "output_type": "stream",
     "text": [
      "The string Hello World! after removing duplicates is Helo Wrd!\n"
     ]
    }
   ],
   "source": [
    "# 45. Write a Python program to remove all duplicates from a string.\n",
    "\n",
    "def remove_duplicates(string):\n",
    "  seen = set()\n",
    "  new_string = \"\"\n",
    "\n",
    "  for character in string:\n",
    "    if character not in seen:\n",
    "      new_string += character\n",
    "      seen.add(character)\n",
    "\n",
    "  return new_string\n",
    "\n",
    "def main():\n",
    "  string = \"Hello World!\"\n",
    "\n",
    "  new_string = remove_duplicates(string)\n",
    "\n",
    "  print(\"The string {} after removing duplicates is {}\".format(string, new_string))\n",
    "\n",
    "if __name__ == \"__main__\":\n",
    "  main()"
   ]
  },
  {
   "cell_type": "code",
   "execution_count": 23,
   "id": "0e7a57fe",
   "metadata": {},
   "outputs": [
    {
     "name": "stdout",
     "output_type": "stream",
     "text": [
      "First missing positive number: 2\n"
     ]
    }
   ],
   "source": [
    "# 46. Implement a function to find the first missing positive\n",
    "\n",
    "def find_first_missing_positive(nums):\n",
    "    n = len(nums)\n",
    "\n",
    "    for i in range(n):\n",
    "        while 1 <= nums[i] <= n and nums[nums[i] - 1] != nums[i]:\n",
    "            nums[nums[i] - 1], nums[i] = nums[i], nums[nums[i] - 1]\n",
    "\n",
    "    for i in range(n):\n",
    "        if nums[i] != i + 1:\n",
    "            return i + 1\n",
    "\n",
    "    return n + 1\n",
    "\n",
    "nums = [3, 4, -1, 1]\n",
    "\n",
    "first_missing = find_first_missing_positive(nums)\n",
    "print(\"First missing positive number:\", first_missing)"
   ]
  },
  {
   "cell_type": "code",
   "execution_count": null,
   "id": "c5344e09",
   "metadata": {},
   "outputs": [],
   "source": []
  }
 ],
 "metadata": {
  "kernelspec": {
   "display_name": "Python 3 (ipykernel)",
   "language": "python",
   "name": "python3"
  },
  "language_info": {
   "codemirror_mode": {
    "name": "ipython",
    "version": 3
   },
   "file_extension": ".py",
   "mimetype": "text/x-python",
   "name": "python",
   "nbconvert_exporter": "python",
   "pygments_lexer": "ipython3",
   "version": "3.9.13"
  }
 },
 "nbformat": 4,
 "nbformat_minor": 5
}
