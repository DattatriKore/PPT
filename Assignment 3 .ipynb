{
 "cells": [
  {
   "cell_type": "code",
   "execution_count": 3,
   "id": "9a0c3e44",
   "metadata": {},
   "outputs": [
    {
     "name": "stdout",
     "output_type": "stream",
     "text": [
      "The mean sales for region A is:  11.8\n",
      "The mean sales for region B is:  20.2\n"
     ]
    }
   ],
   "source": [
    "'''\n",
    "1. Scenario: A company wants to analyze the sales performance of its products in different regions. They have collected the\n",
    "\n",
    "   following data:\n",
    "   Region A: [10, 15, 12, 8, 14]\n",
    "   Region B: [18, 20, 16, 22, 25]\n",
    "   Calculate the mean sales for each region.\n",
    "\n",
    "\n",
    "'''\n",
    "\n",
    "def mean(data):\n",
    "    sum = 0\n",
    "    \n",
    "    for number in data:\n",
    "        sum = sum + number\n",
    "    return sum / len(data)\n",
    "\n",
    "Region_A = [10, 15, 12, 8, 14]\n",
    "Region_B = [18, 20, 16, 22, 25]\n",
    "\n",
    "print(\"The mean sales for region A is: \",mean(Region_A))\n",
    "print(\"The mean sales for region B is: \",mean(Region_B))"
   ]
  },
  {
   "cell_type": "code",
   "execution_count": 4,
   "id": "67742a7c",
   "metadata": {},
   "outputs": [
    {
     "name": "stdout",
     "output_type": "stream",
     "text": [
      "The mode of the survey responses is: 4\n"
     ]
    }
   ],
   "source": [
    "'''\n",
    "2. Scenario: A survey is conducted to measure customer satisfaction on a scale of 1 to 5. The data collected is as follows:\n",
    "   [4, 5, 2, 3, 5, 4, 3, 2, 4, 5]\n",
    "   Calculate the mode of the survey responses.\n",
    "\n",
    "'''\n",
    "\n",
    "import statistics\n",
    "\n",
    "data = [4, 5, 2, 3, 5, 4, 3, 2, 4, 5]\n",
    "\n",
    "mode = statistics.mode(data)\n",
    "print(\"The mode of the survey responses is:\", mode)"
   ]
  },
  {
   "cell_type": "code",
   "execution_count": 6,
   "id": "46a8da00",
   "metadata": {},
   "outputs": [
    {
     "name": "stdout",
     "output_type": "stream",
     "text": [
      "The median salary for Department A is: 5750.0\n",
      "The median salary for Department B is: 5500\n"
     ]
    }
   ],
   "source": [
    "'''\n",
    "Scenario: A company wants to compare the salaries of two departments. The salary data for Department A and Department B are as follows:\n",
    "   Department A: [5000, 6000, 5500, 7000]\n",
    "   Department B: [4500, 5500, 5800, 6000, 5200]\n",
    "   Calculate the median salary for each department.\n",
    "\n",
    "'''\n",
    "\n",
    "import statistics\n",
    "\n",
    "Department_A = [5000, 6000, 5500, 7000]\n",
    "Department_B = [4500, 5500, 5800, 6000, 5200]\n",
    "\n",
    "median_a = statistics.median(Department_A)\n",
    "median_b = statistics.median(Department_B)\n",
    "\n",
    "print(\"The median salary for Department A is:\", median_a)\n",
    "print(\"The median salary for Department B is:\", median_b)"
   ]
  },
  {
   "cell_type": "code",
   "execution_count": 7,
   "id": "3d4d6680",
   "metadata": {},
   "outputs": [
    {
     "name": "stdout",
     "output_type": "stream",
     "text": [
      "The range of the stock prices is: 1.3000000000000007\n"
     ]
    }
   ],
   "source": [
    "'''\n",
    "4. Scenario: A data analyst wants to determine the variability in the daily stock prices of a company. The data collected is as follows:\n",
    "   [25.5, 24.8, 26.1, 25.3, 24.9]\n",
    "   Calculate the range of the stock prices.\n",
    "\n",
    "\n",
    "'''\n",
    "\n",
    "data = [25.5, 24.8, 26.1, 25.3, 24.9]\n",
    "\n",
    "price_range = max(data) - min(data)\n",
    "print(\"The range of the stock prices is:\", price_range)"
   ]
  },
  {
   "cell_type": "code",
   "execution_count": 8,
   "id": "e9589538",
   "metadata": {},
   "outputs": [
    {
     "name": "stdout",
     "output_type": "stream",
     "text": [
      "The t-statistic is 1.4312528946642733\n",
      "The p-value is 0.19023970239078333\n"
     ]
    }
   ],
   "source": [
    "'''\n",
    "5. Scenario: A study is conducted to compare the performance of two different teaching methods. The test scores of the students in each group are as follows:\n",
    "   Group A: [85, 90, 92, 88, 91]\n",
    "   Group B: [82, 88, 90, 86, 87]\n",
    "   Perform a t-test to determine if there is a significant difference in the mean scores between the two groups.\n",
    "\n",
    "'''\n",
    "\n",
    "import numpy as np\n",
    "import scipy.stats as stats\n",
    "\n",
    "Group_A = [85, 90, 92, 88, 91]\n",
    "Group_B = [82, 88, 90, 86, 87]\n",
    "\n",
    "t_statistic,p_value = stats.ttest_ind(Group_A,Group_B)\n",
    "\n",
    "print(\"The t-statistic is\", t_statistic)\n",
    "print(\"The p-value is\", p_value)"
   ]
  },
  {
   "cell_type": "code",
   "execution_count": 9,
   "id": "58a797a2",
   "metadata": {},
   "outputs": [
    {
     "name": "stdout",
     "output_type": "stream",
     "text": [
      "The correlation coefficient between advertising expenditure and sales is: 0.8757511375750132\n"
     ]
    }
   ],
   "source": [
    "'''\n",
    "6. Scenario: A company wants to analyze the relationship between advertising expenditure and sales. The data collected is as follows:\n",
    "   Advertising Expenditure (in thousands): [10, 15, 12, 8, 14]\n",
    "   Sales (in thousands): [25, 30, 28, 20, 26]\n",
    "   Calculate the correlation coefficient between advertising expenditure and sales.\n",
    "\n",
    "'''\n",
    "\n",
    "import numpy as np\n",
    "\n",
    "advertising_expenditure = [10, 15, 12, 8, 14]\n",
    "sales = [25, 30, 28, 20, 26]\n",
    "\n",
    "correlation_coefficient = np.corrcoef(advertising_expenditure,sales)[0,1]\n",
    "\n",
    "print(\"The correlation coefficient between advertising expenditure and sales is:\", correlation_coefficient)"
   ]
  },
  {
   "cell_type": "code",
   "execution_count": 10,
   "id": "90b588d1",
   "metadata": {},
   "outputs": [
    {
     "name": "stdout",
     "output_type": "stream",
     "text": [
      "The standard deviation of the heights is: 8.591246929842246\n"
     ]
    }
   ],
   "source": [
    "'''\n",
    "7. Scenario: A survey is conducted to measure the heights of a group of people. The data collected is as follows:\n",
    "   [160, 170, 165, 155, 175, 180, 170]\n",
    "   Calculate the standard deviation of the heights.\n",
    "\n",
    "'''\n",
    "\n",
    "import statistics\n",
    "\n",
    "heights = [160, 170, 165, 155, 175, 180, 170]\n",
    "\n",
    "standard_deviation = statistics.stdev(heights)\n",
    "\n",
    "print(\"The standard deviation of the heights is:\", standard_deviation)"
   ]
  },
  {
   "cell_type": "code",
   "execution_count": 20,
   "id": "980c0350",
   "metadata": {},
   "outputs": [
    {
     "name": "stdout",
     "output_type": "stream",
     "text": [
      "Coefficients: [-0.46808511]\n",
      "Intercept: 8.595744680851062\n"
     ]
    }
   ],
   "source": [
    "'''\n",
    "8. Scenario: A company wants to analyze the relationship between employee tenure and job satisfaction. The data collected is as follows:\n",
    "   Employee Tenure (in years): [2, 3, 5, 4, 6, 2, 4]\n",
    "   Job Satisfaction (on a scale of 1 to 10): [7, 8, 6, 9, 5, 7, 6]\n",
    "   Perform a linear regression analysis to predict job satisfaction based on employee tenure.\n",
    "\n",
    "'''\n",
    "\n",
    "from sklearn.linear_model import LinearRegression\n",
    "import numpy as np\n",
    "\n",
    "employee_tenure = np.array([2, 3, 5, 4, 6, 2, 4]).reshape(-1, 1)\n",
    "job_satisfaction = np.array([7, 8, 6, 9, 5, 7, 6])\n",
    "\n",
    "model = LinearRegression()\n",
    "\n",
    "model.fit(employee_tenure, job_satisfaction)\n",
    "\n",
    "predicted_satisfaction = model.predict(employee_tenure)\n",
    "\n",
    "print(\"Coefficients:\", model.coef_)\n",
    "print(\"Intercept:\", model.intercept_)"
   ]
  },
  {
   "cell_type": "code",
   "execution_count": 21,
   "id": "8889ca3e",
   "metadata": {},
   "outputs": [
    {
     "name": "stdout",
     "output_type": "stream",
     "text": [
      "The f-statistic is 16.0\n",
      "The p-value is 0.003949772803445326\n"
     ]
    }
   ],
   "source": [
    "'''\n",
    "9. Scenario: A study is conducted to compare the effectiveness of two different medications. The recovery times of the patients in each group are as follows:\n",
    "   Medication A: [10, 12, 14, 11, 13]\n",
    "   Medication B: [15, 17, 16, 14, 18]\n",
    "   Perform an analysis of variance (ANOVA) to determine if there is a significant difference in the mean recovery times between the two medications.\n",
    "\n",
    "'''\n",
    "\n",
    "import numpy as np\n",
    "import scipy.stats as stats\n",
    "\n",
    "medication_a = [10, 12, 14, 11, 13]\n",
    "medication_b = [15, 17, 16, 14, 18]\n",
    "\n",
    "f_statistic, p_value = stats.f_oneway(medication_a,medication_b)\n",
    "\n",
    "print(\"The f-statistic is\", f_statistic)\n",
    "print(\"The p-value is\", p_value)"
   ]
  },
  {
   "cell_type": "markdown",
   "id": "41694837",
   "metadata": {},
   "source": [
    "the f-statistic is 16.0 and the p-value is 0.003949772803445326. This means that there is a statistically significant \n",
    "\n",
    "difference in the mean recovery times between the two medications. In other words, medication B has a significantly longer \n",
    "\n",
    "recovery time than medication A."
   ]
  },
  {
   "cell_type": "code",
   "execution_count": 23,
   "id": "e45dfb68",
   "metadata": {},
   "outputs": [
    {
     "name": "stdout",
     "output_type": "stream",
     "text": [
      "The 75th percentile of the feedback ratings is: 8.75\n"
     ]
    }
   ],
   "source": [
    "'''\n",
    "10. Scenario: A company wants to analyze customer feedback ratings on a scale of 1 to 10. The data collected is\n",
    "\n",
    " as follows:\n",
    "    [8, 9, 7, 6, 8, 10, 9, 8, 7, 8]\n",
    "    Calculate the 75th percentile of the feedback ratings.\n",
    "\n",
    "\n",
    "'''\n",
    "\n",
    "import numpy as np\n",
    "\n",
    "ratings = [8, 9, 7, 6, 8, 10, 9, 8, 7, 8]\n",
    "\n",
    "percentile_75 = np.percentile(ratings,75)\n",
    "\n",
    "print(\"The 75th percentile of the feedback ratings is:\", percentile_75)"
   ]
  },
  {
   "cell_type": "code",
   "execution_count": 24,
   "id": "a8961998",
   "metadata": {},
   "outputs": [
    {
     "name": "stdout",
     "output_type": "stream",
     "text": [
      "t-statistic: 1.5126584522688367\n",
      "p-value: 0.19077595151110102\n",
      "Fail to reject the null hypothesis. The mean weight does not differ significantly from 10 grams.\n"
     ]
    }
   ],
   "source": [
    "'''\n",
    "11. Scenario: A quality control department wants to test the weight consistency of a product. The weights of a sample of products are as follows:\n",
    "    [10.2, 9.8, 10.0, 10.5, 10.3, 10.1]\n",
    "    Perform a hypothesis test to determine if the mean weight differs significantly from 10 grams.\n",
    "\n",
    "\n",
    "'''\n",
    "\n",
    "from scipy.stats import ttest_1samp\n",
    "\n",
    "data = [10.2, 9.8, 10.0, 10.5, 10.3, 10.1]\n",
    "\n",
    "popu_mean = 10\n",
    "\n",
    "t_statistic, p_value = ttest_1samp(data,popu_mean)\n",
    "\n",
    "alpha = 0.05\n",
    "\n",
    "print(\"t-statistic:\", t_statistic)\n",
    "print(\"p-value:\", p_value)\n",
    "\n",
    "if p_value < alpha:\n",
    "    print(\"Reject the null hypothesis. The mean weight differs significantly from 10 grams.\")\n",
    "else:\n",
    "    print(\"Fail to reject the null hypothesis. The mean weight does not differ significantly from 10 grams.\")"
   ]
  },
  {
   "cell_type": "code",
   "execution_count": 25,
   "id": "77d99a15",
   "metadata": {},
   "outputs": [
    {
     "name": "stdout",
     "output_type": "stream",
     "text": [
      "Chi-square statistic: 6.110658166925435\n",
      "p-value: 0.19103526314060293\n",
      "Fail to reject the null hypothesis. There is no significant difference in click-through rates between the two designs.\n"
     ]
    }
   ],
   "source": [
    "'''\n",
    "12. Scenario: A company wants to analyze the click-through rates of two different website designs. The number of clicks for each design is as follows:\n",
    "    Design A: [100, 120, 110, 90, 95]\n",
    "    Design B: [80, 85, 90, 95, 100]\n",
    "    Perform a chi-square test to determine if there is a significant difference in the click-through rates between the two designs.\n",
    "\n",
    "\n",
    "'''\n",
    "\n",
    "from scipy.stats import chi2_contingency\n",
    "\n",
    "design_a = [100, 120, 110, 90, 95]\n",
    "design_b = [80, 85, 90, 95, 100]\n",
    "\n",
    "observed = [design_a, design_b]\n",
    "\n",
    "chi2, p_value, _, _ = chi2_contingency(observed)\n",
    "\n",
    "alpha = 0.05  \n",
    "\n",
    "print(\"Chi-square statistic:\", chi2)\n",
    "print(\"p-value:\", p_value)\n",
    "\n",
    "if p_value < alpha:\n",
    "    print(\"Reject the null hypothesis. There is a significant difference in click-through rates between the two designs.\")\n",
    "else:\n",
    "    print(\"Fail to reject the null hypothesis. There is no significant difference in click-through rates between the two designs.\")"
   ]
  },
  {
   "cell_type": "code",
   "execution_count": 26,
   "id": "7e22b861",
   "metadata": {},
   "outputs": [
    {
     "name": "stdout",
     "output_type": "stream",
     "text": [
      "Sample Mean: 7.9\n",
      "Standard Error: 0.3785938897200182\n",
      "Critical Value: 2.2621571627409915\n",
      "Margin of Error: 0.8564388794001122\n",
      "95% Confidence Interval: [7.04, 8.76]\n"
     ]
    }
   ],
   "source": [
    "'''\n",
    "13. Scenario: A survey is conducted to measure customer satisfaction with a product on a scale of 1 to 10. The data collected is as follows:\n",
    "    [7, 9, 6, 8, 10, 7, 8, 9, 7, 8]\n",
    "    Calculate the 95% confidence interval for the population mean satisfaction score.\n",
    "\n",
    "'''\n",
    "\n",
    "import numpy as np\n",
    "from scipy import stats\n",
    "\n",
    "data = [7, 9, 6, 8, 10, 7, 8, 9, 7, 8]\n",
    "\n",
    "confidence_level = 0.95\n",
    "\n",
    "sample_mean = np.mean(data)\n",
    "sample_std = np.std(data, ddof=1)\n",
    "sample_size = len(data)\n",
    "\n",
    "standard_error = sample_std / np.sqrt(sample_size)\n",
    "\n",
    "critical_value = stats.t.ppf((1 + confidence_level) / 2, df=sample_size - 1)\n",
    "\n",
    "margin_of_error = critical_value * standard_error\n",
    "\n",
    "lower_bound = sample_mean - margin_of_error\n",
    "upper_bound = sample_mean + margin_of_error\n",
    "\n",
    "print(\"Sample Mean:\", sample_mean)\n",
    "print(\"Standard Error:\", standard_error)\n",
    "print(\"Critical Value:\", critical_value)\n",
    "print(\"Margin of Error:\", margin_of_error)\n",
    "print(\"95% Confidence Interval: [{:.2f}, {:.2f}]\".format(lower_bound, upper_bound))"
   ]
  },
  {
   "cell_type": "code",
   "execution_count": 31,
   "id": "37c6b42f",
   "metadata": {},
   "outputs": [
    {
     "name": "stdout",
     "output_type": "stream",
     "text": [
      "Regression Equation: Performance = 0.50 * Temperature + -2.90\n"
     ]
    }
   ],
   "source": [
    "'''\n",
    "14. Scenario: A company wants to analyze the effect of temperature on product performance. The data collected is as follows:\n",
    "    Temperature (in degrees Celsius): [20, 22, 23, 19, 21]\n",
    "    Performance (on a scale of 1 to 10): [8, 7, 9, 6, 8]\n",
    "    Perform a simple linear regression to predict performance based on temperature.\n",
    "\n",
    "'''\n",
    "\n",
    "import numpy as np\n",
    "from sklearn.linear_model import LinearRegression\n",
    "\n",
    "temperature = np.array([20, 22, 23, 19, 21]).reshape((-1, 1))\n",
    "\n",
    "performance = np.array([8, 7, 9, 6, 8])\n",
    "\n",
    "model = LinearRegression()\n",
    "model.fit(temperature, performance)\n",
    "\n",
    "slope = model.coef_[0]\n",
    "intercept = model.intercept_\n",
    "\n",
    "print(\"Regression Equation: Performance = {:.2f} * Temperature + {:.2f}\".format(slope, intercept))"
   ]
  },
  {
   "cell_type": "code",
   "execution_count": 32,
   "id": "f66b1486",
   "metadata": {},
   "outputs": [
    {
     "name": "stdout",
     "output_type": "stream",
     "text": [
      "Mann-Whitney U statistic: 17.0\n",
      "p-value: 0.380836480306712\n",
      "Fail to reject the null hypothesis. There is no significant difference in median preferences between the two groups.\n"
     ]
    }
   ],
   "source": [
    "'''\n",
    "15. Scenario: A study is conducted to compare the preferences of two groups of participants. The preferences are measured on a Likert scale from 1 to 5. The data collected is as follows:\n",
    "    Group A: [4, 3, 5, 2, 4]\n",
    "    Group B: [3, 2, 4, 3, 3]\n",
    "    Perform a Mann-Whitney U test to determine if there is a significant difference in the median preferences between the two groups.\n",
    "\n",
    "'''\n",
    "\n",
    "from scipy.stats import mannwhitneyu\n",
    "\n",
    "group_a = [4, 3, 5, 2, 4]\n",
    "group_b = [3, 2, 4, 3, 3]\n",
    "\n",
    "statistic, p_value = mannwhitneyu(group_a, group_b, alternative='two-sided')\n",
    "\n",
    "alpha = 0.05  \n",
    "\n",
    "print(\"Mann-Whitney U statistic:\", statistic)\n",
    "print(\"p-value:\", p_value)\n",
    "\n",
    "if p_value < alpha:\n",
    "    print(\"Reject the null hypothesis. There is a significant difference in median preferences between the two groups.\")\n",
    "else:\n",
    "    print(\"Fail to reject the null hypothesis. There is no significant difference in median preferences between the two groups.\")"
   ]
  },
  {
   "cell_type": "code",
   "execution_count": 33,
   "id": "6a05f964",
   "metadata": {},
   "outputs": [
    {
     "name": "stdout",
     "output_type": "stream",
     "text": [
      "Q1: 36.25\n",
      "Q3: 58.75\n",
      "Interquartile Range (IQR): 22.5\n"
     ]
    }
   ],
   "source": [
    "'''\n",
    "16. Scenario: A company wants to analyze the distribution of customer ages. The data collected is as follows:\n",
    "    [25, 30, 35, 40, 45, 50, 55, 60, 65, 70]\n",
    "    Calculate the interquartile range (IQR) of the ages.\n",
    "\n",
    "\n",
    "'''\n",
    "\n",
    "import numpy as np\n",
    "\n",
    "ages = [25, 30, 35, 40, 45, 50, 55, 60, 65, 70]\n",
    "\n",
    "q1 = np.percentile(ages,25)\n",
    "\n",
    "q3 = np.percentile(ages,75)\n",
    "\n",
    "iqr = q3 - q1\n",
    "\n",
    "print(\"Q1:\", q1)\n",
    "print(\"Q3:\", q3)\n",
    "print(\"Interquartile Range (IQR):\", iqr)"
   ]
  },
  {
   "cell_type": "code",
   "execution_count": 34,
   "id": "8b39cf8e",
   "metadata": {},
   "outputs": [
    {
     "name": "stdout",
     "output_type": "stream",
     "text": [
      "Kruskal-Wallis statistic: 9.696947935368053\n",
      "p-value: 0.007840333026249539\n",
      "Reject the null hypothesis. There is a significant difference in median accuracy scores between the algorithms.\n"
     ]
    }
   ],
   "source": [
    "'''\n",
    "17. Scenario: A study is conducted to compare the performance of three different machine learning algorithms. The accuracy scores for each algorithm are as follows:\n",
    "    Algorithm A: [0.85, 0.80, 0.82, 0.87, 0.83]\n",
    "    Algorithm B: [0.78, 0.82, 0.84, 0.80, 0.79]\n",
    "    Algorithm C: [0.90, 0.88, 0.89, 0.86, 0.87]\n",
    "    Perform a Kruskal-Wallis test to determine if there is a significant difference in the median accuracy scores between the algorithms.\n",
    "\n",
    "'''\n",
    "\n",
    "from scipy.stats import kruskal\n",
    "\n",
    "algorithm_a = [0.85, 0.80, 0.82, 0.87, 0.83]\n",
    "algorithm_b = [0.78, 0.82, 0.84, 0.80, 0.79]\n",
    "algorithm_c = [0.90, 0.88, 0.89, 0.86, 0.87]\n",
    "\n",
    "statistic, p_value = kruskal(algorithm_a, algorithm_b, algorithm_c)\n",
    "\n",
    "alpha = 0.05  \n",
    "\n",
    "print(\"Kruskal-Wallis statistic:\", statistic)\n",
    "print(\"p-value:\", p_value)\n",
    "\n",
    "if p_value < alpha:\n",
    "    print(\"Reject the null hypothesis. There is a significant difference in median accuracy scores between the algorithms.\")\n",
    "else:\n",
    "    print(\"Fail to reject the null hypothesis. There is no significant difference in median accuracy scores between the algorithms.\")"
   ]
  },
  {
   "cell_type": "code",
   "execution_count": 36,
   "id": "6c906cb3",
   "metadata": {},
   "outputs": [
    {
     "name": "stdout",
     "output_type": "stream",
     "text": [
      "The predicted sales for a price of 16 dollars is [80.27439024]\n"
     ]
    },
    {
     "name": "stderr",
     "output_type": "stream",
     "text": [
      "C:\\Users\\Dattatri  Kore\\anaconda3\\lib\\site-packages\\sklearn\\base.py:450: UserWarning: X does not have valid feature names, but LinearRegression was fitted with feature names\n",
      "  warnings.warn(\n"
     ]
    }
   ],
   "source": [
    "'''\n",
    "18. Scenario: A company wants to analyze the effect of price on sales. The data collected is as follows:\n",
    "    Price (in dollars): [10, 15, 12, 8, 14]\n",
    "    Sales: [100, 80, 90, 110, 95]\n",
    "    Perform a simple linear regression to predict\n",
    "\n",
    " sales based on price.\n",
    "\n",
    "'''\n",
    "\n",
    "import numpy as np\n",
    "import pandas as pd\n",
    "from sklearn.linear_model import LinearRegression\n",
    "\n",
    "# Define the data\n",
    "price = [10, 15, 12, 8, 14]\n",
    "sales = [100, 80, 90, 110, 95]\n",
    "\n",
    "df = pd.DataFrame({\n",
    "  \"price\": price,\n",
    "  \"sales\": sales\n",
    "})\n",
    "\n",
    "model = LinearRegression()\n",
    "model.fit(df[[\"price\"]], df[\"sales\"])\n",
    "\n",
    "predicted_sales = model.predict([[16]])\n",
    "\n",
    "print(\"The predicted sales for a price of 16 dollars is\", predicted_sales)"
   ]
  },
  {
   "cell_type": "code",
   "execution_count": 37,
   "id": "02658600",
   "metadata": {},
   "outputs": [
    {
     "name": "stdout",
     "output_type": "stream",
     "text": [
      "Standard Error of the Mean: 0.30550504633038933\n"
     ]
    }
   ],
   "source": [
    "'''\n",
    "19. Scenario: A survey is conducted to measure the satisfaction levels of customers with a new product. The data collected is as follows:\n",
    "    [7, 8, 9, 6, 8, 7, 9, 7, 8, 7]\n",
    "    Calculate the standard error of the mean satisfaction score.\n",
    "\n",
    "'''\n",
    "\n",
    "import numpy as np\n",
    "\n",
    "satisfaction_scores = [7, 8, 9, 6, 8, 7, 9, 7, 8, 7]\n",
    "\n",
    "standard_error = np.std(satisfaction_scores, ddof=1) / np.sqrt(len(satisfaction_scores))\n",
    "\n",
    "print(\"Standard Error of the Mean:\", standard_error)\n"
   ]
  },
  {
   "cell_type": "code",
   "execution_count": 39,
   "id": "321b847c",
   "metadata": {},
   "outputs": [
    {
     "name": "stdout",
     "output_type": "stream",
     "text": [
      "Regression Equation: Sales = 1.15 * Advertising Expenditure + 12.20\n"
     ]
    }
   ],
   "source": [
    "'''\n",
    "20. Scenario: A company wants to analyze the relationship between advertising expenditure and sales. The data collected is as follows:\n",
    "    Advertising Expenditure (in thousands): [10, 15, 12, 8, 14]\n",
    "    Sales (in thousands): [25, 30, 28, 20, 26]\n",
    "    Perform a multiple regression analysis to predict sales based on advertising expenditure.\n",
    "\n",
    "\n",
    "'''\n",
    "\n",
    "import numpy as np\n",
    "from sklearn.linear_model import LinearRegression\n",
    "\n",
    "expenditure = np.array([10, 15, 12, 8, 14]).reshape((-1, 1))\n",
    "\n",
    "sales = np.array([25, 30, 28, 20, 26])\n",
    "\n",
    "model = LinearRegression()\n",
    "model.fit(expenditure, sales)\n",
    "\n",
    "coefficient = model.coef_[0]\n",
    "intercept = model.intercept_\n",
    "\n",
    "print(\"Regression Equation: Sales = {:.2f} * Advertising Expenditure + {:.2f}\".format(coefficient, intercept))"
   ]
  },
  {
   "cell_type": "code",
   "execution_count": null,
   "id": "a1ec551e",
   "metadata": {},
   "outputs": [],
   "source": []
  }
 ],
 "metadata": {
  "kernelspec": {
   "display_name": "Python 3 (ipykernel)",
   "language": "python",
   "name": "python3"
  },
  "language_info": {
   "codemirror_mode": {
    "name": "ipython",
    "version": 3
   },
   "file_extension": ".py",
   "mimetype": "text/x-python",
   "name": "python",
   "nbconvert_exporter": "python",
   "pygments_lexer": "ipython3",
   "version": "3.9.13"
  }
 },
 "nbformat": 4,
 "nbformat_minor": 5
}
